{
  "cells": [
    {
      "cell_type": "markdown",
      "metadata": {
        "id": "Lf7MMQef4zVc"
      },
      "source": [
        "# Fast and Accurate Protein-Peptide Docking with DiffPepDock"
      ]
    },
    {
      "cell_type": "markdown",
      "metadata": {
        "id": "wuobwMy44zVd"
      },
      "source": [
        "<img src=\"https://github.com/YuzheWangPKU/DiffPepBuilder/blob/main/examples/figures/dpd_model.jpg?raw=true\">\n",
        "\n",
        "This notebook demonstrates how to use the DiffPepDock tool to dock batches of peptide sequences to a specific target protein. We provide an example of the redocking task of the substrate-binding protein YejA in complex with its native peptide fragment (PDB ID: [7Z6F](https://www.rcsb.org/structure/7Z6F)) to demonstrate the procedures of batch docking."
      ]
    },
    {
      "cell_type": "markdown",
      "metadata": {
        "id": "M-oQLvH3rLw1"
      },
      "source": [
        "## Setup"
      ]
    },
    {
      "cell_type": "code",
      "execution_count": null,
      "metadata": {
        "cellView": "form",
        "colab": {
          "base_uri": "https://localhost:8080/"
        },
        "id": "JH01KLI65ZKP",
        "outputId": "af9ce3a0-81c6-4529-d3c7-c4b17dade95c"
      },
      "outputs": [
        {
          "name": "stdout",
          "output_type": "stream",
          "text": [
            "Installing DiffPepBuilder...\n",
            "Installing SSBLIB...\n",
            "Downloading model weights...\n",
            "DiffPepBuilder is installed and ready.\n"
          ]
        }
      ],
      "source": [
        "#@title ### Download model assets\n",
        "import os\n",
        "\n",
        "diffpep_folder = \"DiffPepBuilder\"\n",
        "checkpoint_file = os.path.join(diffpep_folder, \"experiments\", \"checkpoints\", \"diffpepdock_v1.pth\")\n",
        "\n",
        "if not (os.path.isdir(diffpep_folder) and os.path.isfile(checkpoint_file)):\n",
        "  print(\"Installing DiffPepDock...\")\n",
        "\n",
        "  if not os.path.isdir(diffpep_folder):\n",
        "    os.system(\"git clone https://github.com/YuzheWangPKU/DiffPepBuilder.git\")\n",
        "\n",
        "  os.chdir(diffpep_folder)\n",
        "\n",
        "  if not os.path.isfile(checkpoint_file):\n",
        "    print(\"Downloading model weights...\")\n",
        "    os.system(\"wget https://zenodo.org/records/15398020/files/diffpepdock_v1.pth\")\n",
        "    os.makedirs(\"experiments/checkpoints/\", exist_ok=True)\n",
        "    os.system(\"mv diffpepdock_v1.pth experiments/checkpoints/\")\n",
        "\n",
        "  os.chdir(\"..\")\n",
        "  print(\"DiffPepDock is installed and ready.\")\n",
        "\n",
        "else:\n",
        "  print(\"DiffPepDock is already installed and ready.\")"
      ]
    },
    {
      "cell_type": "code",
      "execution_count": 2,
      "metadata": {
        "cellView": "form",
        "colab": {
          "base_uri": "https://localhost:8080/"
        },
        "id": "pDG1HhY1-f8k",
        "outputId": "de458cf7-3b5c-4986-fc0f-89291db92a9c"
      },
      "outputs": [
        {
          "name": "stdout",
          "output_type": "stream",
          "text": [
            "Installing pdbfixer...\n",
            "pdbfixer is installed.\n"
          ]
        },
        {
          "data": {
            "text/plain": [
              "0"
            ]
          },
          "execution_count": 2,
          "metadata": {},
          "output_type": "execute_result"
        }
      ],
      "source": [
        "#@title ### Install dependencies\n",
        "os.system(\"pip install wget wandb fair-esm biotite pyrootutils easydict biopython tqdm ml-collections mdtraj GPUtil dm-tree tmtools py3Dmol\")\n",
        "\n",
        "pdbfixer_folder = \"pdbfixer\"\n",
        "if not os.path.isdir(pdbfixer_folder):\n",
        "  print(\"Installing pdbfixer...\")\n",
        "  os.system(\"git clone https://github.com/openmm/pdbfixer.git\")\n",
        "  os.chdir(pdbfixer_folder)\n",
        "  os.system(\"python setup.py install\")\n",
        "  os.chdir(\"..\")\n",
        "  print(\"pdbfixer is installed.\")\n",
        "else:\n",
        "  print(\"pdbfixer is already cloned.\")\n",
        "\n",
        "os.system(\"pip install hydra-core hydra-joblib-launcher\")"
      ]
    },
    {
      "cell_type": "markdown",
      "metadata": {
        "id": "m5ld4hUNqTcP"
      },
      "source": [
        "## Inference"
      ]
    },
    {
      "cell_type": "code",
      "execution_count": null,
      "metadata": {
        "cellView": "form",
        "id": "0KH7alTw5R-M"
      },
      "outputs": [],
      "source": [
        "#@title ### Specify receptor information\n",
        "from google.colab import files\n",
        "import json\n",
        "\n",
        "os.makedirs(\"test_case\", exist_ok=True)\n",
        "receptor_type = \"default (ALK1)\" #@param [\"default (7Z6F)\", \"uploaded\"]\n",
        "\n",
        "if receptor_type == \"uploaded\":\n",
        "  uploaded_pdb = files.upload(accept=\".pdb\")\n",
        "  file_name = next(iter(uploaded_pdb))\n",
        "  os.system(f\"mv {file_name} test_case/\")\n",
        "else:\n",
        "  file_name = \"7Z6F.pdb\"\n",
        "  os.system(f\"cp DiffPepBuilder/examples/docking_data/7Z6F.pdb test_case/\")\n",
        "#@markdown - **Note**: please remove non-protein components from the PDB file and ensure that the CA atoms are present.\n",
        "\n",
        "lig_chain = \"A\" #@param {type:\"string\"}\n",
        "#@markdown  - Chain ID of the **reference** ligand. Please set to `None` if no reference ligand is included in the PDB file.\n",
        "#@markdown  The model will prioritize reference ligand information over the binding motif if both are given.\n",
        "motif = None #@param {type:\"string\"}\n",
        "\n",
        "key = os.path.splitext(file_name)[0]\n",
        "data = {}\n",
        "if lig_chain and lig_chain != \"None\":\n",
        "  data['lig_chain'] = lig_chain\n",
        "if motif and motif != \"None\":\n",
        "  data['motif'] = motif.replace(\",\", \"-\")\n",
        "\n",
        "json_file_write_path = \"test_case/docking_cases.json\"\n",
        "final_data = {key: data}\n",
        "with open(json_file_write_path, 'w') as file:\n",
        "  json.dump(final_data, file, indent=4)\n",
        "\n",
        "peptide_seq_mode = \"single\" #@param [\"single\", \"batch\"]\n",
        "if peptide_seq_mode == \"single\":\n",
        "  peptide_seq = \"VLGEPRYAFNFN\" #@param {type:\"string\"}\n",
        "  #@markdown - Peptide sequence in single-letter code.\n",
        "  peptide_id = \"nat\" #@param {type:\"string\"}\n",
        "  file_name = \"peptide_seq.fasta\"\n",
        "  with open(os.path.join(\"test_case\", file_name), 'w') as f:\n",
        "    f.write(f\">{peptide_id}\\n{peptide_seq}\\n\")\n",
        "  #@markdown - Peptide sequence in single-letter code.\n",
        "elif peptide_seq_mode == \"batch\":\n",
        "  peptide_fasta = files.upload(accept=\".fasta\")\n",
        "  #@markdown - Upload a FASTA file containing multiple peptide sequences.\n",
        "  file_name = next(iter(peptide_fasta))\n",
        "  os.system(f\"mv {file_name} test_case/\")\n"
      ]
    },
    {
      "cell_type": "code",
      "execution_count": null,
      "metadata": {
        "cellView": "form",
        "colab": {
          "base_uri": "https://localhost:8080/"
        },
        "id": "Nt9hFAMAqM-b",
        "outputId": "3c7ba912-fe91-48d6-fa58-97b38405889d"
      },
      "outputs": [
        {
          "name": "stdout",
          "output_type": "stream",
          "text": [
            "Files will be written to test_case\n",
            "/content/DiffPepBuilder/experiments/process_receptor.py:275: UserWarning: Both motif and hotspots are found for alk1. The hotspots will be used in priority over the motif.\n",
            "  warnings.warn(f\"Both motif and hotspots are found for {pdb_name}. \"\n",
            "Finished test_case/alk1.pdb in 0.04s\n",
            "Finished processing 1/1 files. Start ESM embedding...\n",
            "Model file /content/DiffPepBuilder/experiments/checkpoints/esm2_t33_650M_UR50D.pt not found. Downloading...\n",
            "Model file /content/DiffPepBuilder/experiments/checkpoints/esm2_t33_650M_UR50D-contact-regression.pt not found. Downloading...\n",
            "Read sequence data with 1 sequences\n",
            "Processing protein sequence batches:   0% 0/1 [00:00<?, ?it/s]Processing 1 of 1 batches (1 sequences)\n",
            "Processing protein sequence batches: 100% 1/1 [00:00<00:00,  1.07it/s]\n",
            "100% 1/1 [00:00<00:00, 556.57it/s]\n"
          ]
        }
      ],
      "source": [
        "#@title ### Preprocess receptor and peptide sequence data\n",
        "!python DiffPepBuilder/experiments/process_batch_dock.py \\\n",
        "  --pdb_dir test_case \\\n",
        "  --write_dir test_case \\\n",
        "  --receptor_info_path test_case/docking_cases.json \\\n",
        "  --peptide_seq_path test_case/peptide_seq.fasta"
      ]
    },
    {
      "cell_type": "code",
      "execution_count": null,
      "metadata": {
        "cellView": "form",
        "id": "vL6Rz2IHJS-d"
      },
      "outputs": [],
      "source": [
        "#@title ### Customize docking settings\n",
        "import yaml\n",
        "\n",
        "#@markdown #### Sampling params\n",
        "denoising_steps = \"200\" #@param [100, 200, 500]\n",
        "noise_scale = \"1.0\" #@param [0.5, 1.0, 1.5, 2.0, 2.5]\n",
        "samples_per_sequence = 4 #@param {type:\"integer\"}\n",
        "\n",
        "yaml_file_path = \"DiffPepBuilder/config/docking.yaml\"\n",
        "with open(yaml_file_path, 'r') as file:\n",
        "  yaml_data = yaml.safe_load(file)\n",
        "\n",
        "yaml_data['data']['num_t'] = int(denoising_steps)\n",
        "yaml_data['experiment']['noise_scale'] = float(noise_scale)\n",
        "yaml_data['data']['num_repeat_per_eval_sample'] = int(samples_per_sequence)\n",
        "\n",
        "with open(yaml_file_path, 'w') as file:\n",
        "  yaml.dump(yaml_data, file, default_flow_style=False)\n"
      ]
    },
    {
      "cell_type": "code",
      "execution_count": null,
      "metadata": {
        "colab": {
          "base_uri": "https://localhost:8080/"
        },
        "id": "isAKfCpHTEhh",
        "outputId": "1df8bdef-5fd4-45a2-fa2e-a242e6e119e3"
      },
      "outputs": [
        {
          "name": "stdout",
          "output_type": "stream",
          "text": [
            "[2025-05-15 04:50:26,648][experiments.train][INFO] - Loading checkpoint from /content/DiffPepBuilder/experiments/checkpoints/diffpepbuilder_v1.pth\n",
            "[2025-05-15 04:50:32,484][data.so3_diffuser][INFO] - Computing IGSO3. Saving in /content/DiffPepBuilder/runs/cache/eps_1000_omega_1000_min_sigma_0_1_max_sigma_1_5_schedule_logarithmic\n",
            "[2025-05-15 04:51:52,768][experiments.train][INFO] - Number of model parameters: 103.66 M\n",
            "[2025-05-15 04:51:57,911][experiments.train][INFO] - Evaluation mode only, no checkpoint being saved.\n",
            "[2025-05-15 04:51:57,913][experiments.train][INFO] - Evaluation saved to: /content/DiffPepBuilder/runs/inference/15D_05M_2025Y_04h_51m\n",
            "[2025-05-15 04:51:58,034][experiments.train][INFO] - Using device: cuda:0\n",
            "[2025-05-15 04:51:58,044][data.pdb_data_loader][INFO] - Validation: 1 examples\n",
            "/usr/local/lib/python3.11/dist-packages/torch/nn/modules/transformer.py:508: UserWarning: The PyTorch API of nested tensors is in prototype stage and will change in the near future. We recommend specifying layout=torch.jagged when constructing a nested tensor, as this layout receives active development, has better operator coverage, and works with torch.compile. (Triggered internally at /pytorch/aten/src/ATen/NestedTensorImpl.cpp:178.)\n",
            "  output = torch._nested_tensor_from_mask(\n",
            "[2025-05-15 04:52:32,305][experiments.train][INFO] - Done sample alk1 (peptide length: 16, sample: 0), saved to /content/DiffPepBuilder/runs/inference/15D_05M_2025Y_04h_51m/alk1/length_16/alk1_sample_0.pdb\n",
            "[2025-05-15 04:52:32,313][experiments.train][INFO] - Done sample alk1 (peptide length: 16, sample: 1), saved to /content/DiffPepBuilder/runs/inference/15D_05M_2025Y_04h_51m/alk1/length_16/alk1_sample_1.pdb\n",
            "[2025-05-15 04:52:32,320][experiments.train][INFO] - Done sample alk1 (peptide length: 16, sample: 2), saved to /content/DiffPepBuilder/runs/inference/15D_05M_2025Y_04h_51m/alk1/length_16/alk1_sample_2.pdb\n",
            "[2025-05-15 04:52:32,328][experiments.train][INFO] - Done sample alk1 (peptide length: 16, sample: 3), saved to /content/DiffPepBuilder/runs/inference/15D_05M_2025Y_04h_51m/alk1/length_16/alk1_sample_3.pdb\n",
            "[2025-05-15 04:53:03,257][experiments.train][INFO] - Done sample alk1 (peptide length: 12, sample: 0), saved to /content/DiffPepBuilder/runs/inference/15D_05M_2025Y_04h_51m/alk1/length_12/alk1_sample_0.pdb\n",
            "[2025-05-15 04:53:03,264][experiments.train][INFO] - Done sample alk1 (peptide length: 12, sample: 1), saved to /content/DiffPepBuilder/runs/inference/15D_05M_2025Y_04h_51m/alk1/length_12/alk1_sample_1.pdb\n",
            "[2025-05-15 04:53:03,271][experiments.train][INFO] - Done sample alk1 (peptide length: 12, sample: 2), saved to /content/DiffPepBuilder/runs/inference/15D_05M_2025Y_04h_51m/alk1/length_12/alk1_sample_2.pdb\n",
            "[2025-05-15 04:53:03,278][experiments.train][INFO] - Done sample alk1 (peptide length: 12, sample: 3), saved to /content/DiffPepBuilder/runs/inference/15D_05M_2025Y_04h_51m/alk1/length_12/alk1_sample_3.pdb\n",
            "[2025-05-15 04:53:36,172][experiments.train][INFO] - Done sample alk1 (peptide length: 15, sample: 0), saved to /content/DiffPepBuilder/runs/inference/15D_05M_2025Y_04h_51m/alk1/length_15/alk1_sample_0.pdb\n",
            "[2025-05-15 04:53:36,185][experiments.train][INFO] - Done sample alk1 (peptide length: 15, sample: 1), saved to /content/DiffPepBuilder/runs/inference/15D_05M_2025Y_04h_51m/alk1/length_15/alk1_sample_1.pdb\n",
            "[2025-05-15 04:53:36,198][experiments.train][INFO] - Done sample alk1 (peptide length: 15, sample: 2), saved to /content/DiffPepBuilder/runs/inference/15D_05M_2025Y_04h_51m/alk1/length_15/alk1_sample_2.pdb\n",
            "[2025-05-15 04:53:36,211][experiments.train][INFO] - Done sample alk1 (peptide length: 15, sample: 3), saved to /content/DiffPepBuilder/runs/inference/15D_05M_2025Y_04h_51m/alk1/length_15/alk1_sample_3.pdb\n",
            "[2025-05-15 04:54:07,811][experiments.train][INFO] - Done sample alk1 (peptide length: 14, sample: 0), saved to /content/DiffPepBuilder/runs/inference/15D_05M_2025Y_04h_51m/alk1/length_14/alk1_sample_0.pdb\n",
            "[2025-05-15 04:54:07,819][experiments.train][INFO] - Done sample alk1 (peptide length: 14, sample: 1), saved to /content/DiffPepBuilder/runs/inference/15D_05M_2025Y_04h_51m/alk1/length_14/alk1_sample_1.pdb\n",
            "[2025-05-15 04:54:07,826][experiments.train][INFO] - Done sample alk1 (peptide length: 14, sample: 2), saved to /content/DiffPepBuilder/runs/inference/15D_05M_2025Y_04h_51m/alk1/length_14/alk1_sample_2.pdb\n",
            "[2025-05-15 04:54:07,834][experiments.train][INFO] - Done sample alk1 (peptide length: 14, sample: 3), saved to /content/DiffPepBuilder/runs/inference/15D_05M_2025Y_04h_51m/alk1/length_14/alk1_sample_3.pdb\n",
            "[2025-05-15 04:54:39,581][experiments.train][INFO] - Done sample alk1 (peptide length: 13, sample: 0), saved to /content/DiffPepBuilder/runs/inference/15D_05M_2025Y_04h_51m/alk1/length_13/alk1_sample_0.pdb\n",
            "[2025-05-15 04:54:39,595][experiments.train][INFO] - Done sample alk1 (peptide length: 13, sample: 1), saved to /content/DiffPepBuilder/runs/inference/15D_05M_2025Y_04h_51m/alk1/length_13/alk1_sample_1.pdb\n",
            "[2025-05-15 04:54:39,610][experiments.train][INFO] - Done sample alk1 (peptide length: 13, sample: 2), saved to /content/DiffPepBuilder/runs/inference/15D_05M_2025Y_04h_51m/alk1/length_13/alk1_sample_2.pdb\n",
            "[2025-05-15 04:54:39,623][experiments.train][INFO] - Done sample alk1 (peptide length: 13, sample: 3), saved to /content/DiffPepBuilder/runs/inference/15D_05M_2025Y_04h_51m/alk1/length_13/alk1_sample_3.pdb\n",
            "[2025-05-15 04:54:39,623][experiments.train][INFO] - Finished all de novo peptide generation tasks in 161.58s. Start post-processing...\n",
            "[2025-05-15 04:54:43,805][experiments.train][INFO] - Finished building possible SS bonds for generated peptides.\n"
          ]
        }
      ],
      "source": [
        "#@title ### Run batch docking\n",
        "os.environ['BASE_PATH'] = \"/content/DiffPepBuilder\"\n",
        "\n",
        "!torchrun --nproc-per-node=1 DiffPepBuilder/experiments/run_docking.py \\\n",
        "  data.val_csv_path=test_case/metadata_test.csv \\\n",
        "  experiment.use_ddp=False \\\n",
        "  experiment.num_gpus=1 \\\n",
        "  experiment.num_loader_workers=1"
      ]
    },
    {
      "cell_type": "code",
      "execution_count": null,
      "metadata": {
        "colab": {
          "base_uri": "https://localhost:8080/",
          "height": 17
        },
        "id": "SD90AEzE5TVm",
        "outputId": "975683fc-02a2-4370-a788-b45174568dc9"
      },
      "outputs": [
        {
          "data": {
            "application/javascript": "\n    async function download(id, filename, size) {\n      if (!google.colab.kernel.accessAllowed) {\n        return;\n      }\n      const div = document.createElement('div');\n      const label = document.createElement('label');\n      label.textContent = `Downloading \"${filename}\": `;\n      div.appendChild(label);\n      const progress = document.createElement('progress');\n      progress.max = size;\n      div.appendChild(progress);\n      document.body.appendChild(div);\n\n      const buffers = [];\n      let downloaded = 0;\n\n      const channel = await google.colab.kernel.comms.open(id);\n      // Send a message to notify the kernel that we're ready.\n      channel.send({})\n\n      for await (const message of channel.messages) {\n        // Send a message to notify the kernel that we're ready.\n        channel.send({})\n        if (message.buffers) {\n          for (const buffer of message.buffers) {\n            buffers.push(buffer);\n            downloaded += buffer.byteLength;\n            progress.value = downloaded;\n          }\n        }\n      }\n      const blob = new Blob(buffers, {type: 'application/binary'});\n      const a = document.createElement('a');\n      a.href = window.URL.createObjectURL(blob);\n      a.download = filename;\n      div.appendChild(a);\n      a.click();\n      div.remove();\n    }\n  ",
            "text/plain": [
              "<IPython.core.display.Javascript object>"
            ]
          },
          "metadata": {},
          "output_type": "display_data"
        },
        {
          "data": {
            "application/javascript": "download(\"download_d3412eae-1f57-4d90-b090-b4dec1cb6f5f\", \"designed_binders.tar.gz\", 57517)",
            "text/plain": [
              "<IPython.core.display.Javascript object>"
            ]
          },
          "metadata": {},
          "output_type": "display_data"
        }
      ],
      "source": [
        "#@title ### Download results\n",
        "\n",
        "!tar --directory=/content/DiffPepBuilder/runs -czf /content/docking_results.tar.gz docking\n",
        "files.download(\"/content/docking_results.tar.gz\")"
      ]
    },
    {
      "cell_type": "markdown",
      "metadata": {
        "id": "x3chtMNo5TVn"
      },
      "source": [
        "### Postprocessing\n",
        "\n",
        "Please refer to [README](https://github.com/YuzheWangPKU/DiffPepBuilder?tab=readme-ov-file#docking) to run the side chain assembly using [Rosetta](https://rosettacommons.org/software/).\n",
        "\n",
        "- We didn’t include this step in the Colab Notebook due to its limited storage and Rosetta’s large size. Apologies for any inconvenience!"
      ]
    }
  ],
  "metadata": {
    "accelerator": "GPU",
    "colab": {
      "gpuType": "T4",
      "provenance": []
    },
    "kernelspec": {
      "display_name": "Python 3",
      "name": "python3"
    },
    "language_info": {
      "name": "python",
      "version": "3.9.16"
    }
  },
  "nbformat": 4,
  "nbformat_minor": 0
}
