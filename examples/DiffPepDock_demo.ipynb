{
  "cells": [
    {
      "cell_type": "markdown",
      "metadata": {
        "id": "Lf7MMQef4zVc"
      },
      "source": [
        "# Fast and Accurate Protein-Peptide Docking with DiffPepDock"
      ]
    },
    {
      "cell_type": "markdown",
      "metadata": {
        "id": "wuobwMy44zVd"
      },
      "source": [
        "<img src=\"https://github.com/YuzheWangPKU/DiffPepBuilder/blob/main/examples/figures/dpd_model.jpg?raw=true\">\n",
        "\n",
        "This notebook demonstrates how to use the DiffPepDock tool to dock batches of peptide sequences to a specific target protein. We provide an example of the redocking task of the substrate-binding protein YejA in complex with its native peptide fragment (PDB ID: [7Z6F](https://www.rcsb.org/structure/7Z6F)) to demonstrate the procedures of batch docking."
      ]
    },
    {
      "cell_type": "markdown",
      "metadata": {
        "id": "M-oQLvH3rLw1"
      },
      "source": [
        "## Setup"
      ]
    },
    {
      "cell_type": "code",
      "execution_count": 1,
      "metadata": {
        "cellView": "form",
        "colab": {
          "base_uri": "https://localhost:8080/"
        },
        "id": "JH01KLI65ZKP",
        "outputId": "835aab7c-6960-42c4-a177-68136f6e3cd6"
      },
      "outputs": [
        {
          "name": "stdout",
          "output_type": "stream",
          "text": [
            "Installing DiffPepDock...\n",
            "Downloading model weights...\n",
            "DiffPepDock is installed and ready.\n"
          ]
        }
      ],
      "source": [
        "#@title ### Download model assets\n",
        "import os\n",
        "\n",
        "diffpep_folder = \"DiffPepBuilder\"\n",
        "checkpoint_file = os.path.join(diffpep_folder, \"experiments\", \"checkpoints\", \"diffpepdock_v1.pth\")\n",
        "\n",
        "if not (os.path.isdir(diffpep_folder) and os.path.isfile(checkpoint_file)):\n",
        "  print(\"Installing DiffPepDock...\")\n",
        "\n",
        "  if not os.path.isdir(diffpep_folder):\n",
        "    os.system(\"git clone https://github.com/YuzheWangPKU/DiffPepBuilder.git\")\n",
        "\n",
        "  os.chdir(diffpep_folder)\n",
        "\n",
        "  if not os.path.isfile(checkpoint_file):\n",
        "    print(\"Downloading model weights...\")\n",
        "    os.system(\"wget https://zenodo.org/records/15398020/files/diffpepdock_v1.pth\")\n",
        "    os.makedirs(\"experiments/checkpoints/\", exist_ok=True)\n",
        "    os.system(\"mv diffpepdock_v1.pth experiments/checkpoints/\")\n",
        "\n",
        "  os.chdir(\"..\")\n",
        "  print(\"DiffPepDock is installed and ready.\")\n",
        "\n",
        "else:\n",
        "  print(\"DiffPepDock is already installed and ready.\")"
      ]
    },
    {
      "cell_type": "code",
      "execution_count": null,
      "metadata": {
        "cellView": "form",
        "colab": {
          "base_uri": "https://localhost:8080/"
        },
        "id": "pDG1HhY1-f8k",
        "outputId": "d745fa44-bd29-4f5a-91e6-b881610343bd"
      },
      "outputs": [
        {
          "name": "stdout",
          "output_type": "stream",
          "text": [
            "Installing pdbfixer...\n",
            "pdbfixer is installed.\n"
          ]
        },
        {
          "data": {
            "text/plain": [
              "0"
            ]
          },
          "execution_count": 2,
          "metadata": {},
          "output_type": "execute_result"
        }
      ],
      "source": [
        "#@title ### Install dependencies\n",
        "os.system(\"pip install wget wandb fair-esm biotite pyrootutils easydict biopython tqdm ml-collections mdtraj GPUtil dm-tree tmtools py3Dmol\")\n",
        "os.system(\"wget wget https://west.rosettacommons.org/pyrosetta/release/release/PyRosetta4.MinSizeRel.python311.linux.wheel/pyrosetta-2024.39+release.59628fb-cp311-cp311-linux_x86_64.whl\")\n",
        "os.system(\"pip install pyrosetta-2024.39+release.59628fb-cp311-cp311-linux_x86_64.whl\")\n",
        "os.system(\"rm pyrosetta-2024.39+release.59628fb-cp311-cp311-linux_x86_64.whl\")\n",
        "\n",
        "pdbfixer_folder = \"pdbfixer\"\n",
        "if not os.path.isdir(pdbfixer_folder):\n",
        "  print(\"Installing pdbfixer...\")\n",
        "  os.system(\"git clone https://github.com/openmm/pdbfixer.git\")\n",
        "  os.chdir(pdbfixer_folder)\n",
        "  os.system(\"python setup.py install\")\n",
        "  os.chdir(\"..\")\n",
        "  print(\"pdbfixer is installed.\")\n",
        "else:\n",
        "  print(\"pdbfixer is already cloned.\")\n",
        "\n",
        "os.system(\"pip install hydra-core hydra-joblib-launcher\")"
      ]
    },
    {
      "cell_type": "markdown",
      "metadata": {
        "id": "m5ld4hUNqTcP"
      },
      "source": [
        "## Inference"
      ]
    },
    {
      "cell_type": "code",
      "execution_count": 3,
      "metadata": {
        "cellView": "form",
        "id": "0KH7alTw5R-M"
      },
      "outputs": [],
      "source": [
        "#@title ### Specify receptor information\n",
        "from google.colab import files\n",
        "import json\n",
        "\n",
        "os.makedirs(\"test_case\", exist_ok=True)\n",
        "receptor_type = \"default (7Z6F)\" #@param [\"default (7Z6F)\", \"uploaded\"]\n",
        "\n",
        "if receptor_type == \"uploaded\":\n",
        "  uploaded_pdb = files.upload(accept=\".pdb\")\n",
        "  file_name = next(iter(uploaded_pdb))\n",
        "  os.system(f\"mv {file_name} test_case/\")\n",
        "else:\n",
        "  file_name = \"7Z6F.pdb\"\n",
        "  os.system(f\"cp DiffPepBuilder/examples/docking_data/7Z6F.pdb test_case/\")\n",
        "#@markdown - **Note**: please remove non-protein components from the PDB file and ensure that the CA atoms are present.\n",
        "\n",
        "lig_chain = \"A\" #@param {type:\"string\"}\n",
        "#@markdown  - Chain ID of the **reference** ligand. Please set to `None` if no reference ligand is included in the PDB file.\n",
        "#@markdown  The model will prioritize reference ligand information over the binding motif if both are given.\n",
        "motif = None #@param {type:\"string\"}\n",
        "\n",
        "key = os.path.splitext(file_name)[0]\n",
        "data = {}\n",
        "if lig_chain and lig_chain != \"None\":\n",
        "  data['lig_chain'] = lig_chain\n",
        "if motif and motif != \"None\":\n",
        "  data['motif'] = motif.replace(\",\", \"-\")\n",
        "\n",
        "json_file_write_path = \"test_case/docking_cases.json\"\n",
        "final_data = {key: data}\n",
        "with open(json_file_write_path, 'w') as file:\n",
        "  json.dump(final_data, file, indent=4)"
      ]
    },
    {
      "cell_type": "code",
      "execution_count": null,
      "metadata": {
        "cellView": "form",
        "colab": {
          "base_uri": "https://localhost:8080/",
          "height": 165,
          "referenced_widgets": [
            "7ef71f4eeddc435a82c94658dfaf42b8",
            "3685d76714dc463cbb23ec80b9400ca3",
            "69803eb9483845b3b6be97d7778ee51c",
            "9a7c6be60eca4a1781e9aca024880142",
            "b7e096aa7df4486e99779076621d8094",
            "fac0c2603f914ba88c97e3fef52d86b9",
            "53acccaa93e64f63add068ceef8b3c5c",
            "996d3b9d1f98441fa9ed8b15d61927a7",
            "97f68e005d33404b8e2e5012dc4a6637",
            "09eae9ce050e44e0bd9fb40a6a839dc9",
            "09e480a3c4a847e9ad4257a84cc7eae9",
            "a46d6eee5a1144d3a3e124553ac35ef7",
            "f0aec23a2b2b470ba804467f39379515",
            "69097fbc19aa480793ae981e40858a1a",
            "1204d705d47d4604879c2ec181998b88",
            "b148c5fabc024bcd85deff606e5c2002"
          ]
        },
        "id": "qgiLTB9DZIcm",
        "outputId": "59ac22ba-8584-433c-91a0-02b9e919b2be"
      },
      "outputs": [],
      "source": [
        "#@title ### Specify peptide sequences\n",
        "import ipywidgets\n",
        "from IPython.display import display, clear_output\n",
        "\n",
        "mode_dropdown = ipywidgets.Dropdown(\n",
        "    options=['single', 'batch'],\n",
        "    value='single',\n",
        "    description='Docking Mode:',\n",
        "    style={'description_width': 'initial'}\n",
        ")\n",
        "\n",
        "# Widgets for SINGLE mode\n",
        "peptide_seq = ipywidgets.Text(\n",
        "    value='VLGEPRYAFNFN',\n",
        "    description='Peptide Sequence:',\n",
        "    style={'description_width': 'initial'}\n",
        ")\n",
        "peptide_id = ipywidgets.Text(\n",
        "    value='nat',\n",
        "    description='Peptide ID:',\n",
        "    style={'description_width': 'initial'}\n",
        ")\n",
        "save_button = ipywidgets.Button(\n",
        "    description='Save Sequence',\n",
        "    button_style='success'\n",
        ")\n",
        "\n",
        "# Widgets for BATCH mode\n",
        "upload_widget = ipywidgets.FileUpload(\n",
        "    accept='.fasta',\n",
        "    multiple=False,\n",
        "    description='Upload FASTA'\n",
        ")\n",
        "process_button = ipywidgets.Button(\n",
        "    description='Process Upload',\n",
        "    button_style='info'\n",
        ")\n",
        "\n",
        "output = ipywidgets.Output()\n",
        "\n",
        "def on_mode_change(change):\n",
        "    with output:\n",
        "        clear_output(wait=True)\n",
        "        if change['new'] == 'single':\n",
        "            display(ipywidgets.VBox([peptide_seq, peptide_id, save_button]))\n",
        "        else:\n",
        "            display(ipywidgets.VBox([upload_widget, process_button]))\n",
        "\n",
        "def save_sequence(btn):\n",
        "    seq = peptide_seq.value.strip()\n",
        "    pid = peptide_id.value.strip()\n",
        "    if not seq or not pid:\n",
        "        with output:\n",
        "            print(\"Please provide both Sequence and ID.\")\n",
        "        return\n",
        "    path = os.path.join(\"test_case\", \"peptide_seq.fasta\")\n",
        "    with open(path, 'w') as f:\n",
        "        f.write(f\">{pid}\\n{seq}\\n\")\n",
        "    with output:\n",
        "        print(f\"Saved single-sequence file to {path}\")\n",
        "\n",
        "def process_upload(btn):\n",
        "    if not upload_widget.value:\n",
        "        with output:\n",
        "            clear_output(wait=True)\n",
        "            print(\"No FASTA file uploaded.\")\n",
        "        return\n",
        "    with output:\n",
        "        clear_output(wait=True)\n",
        "        for fname, fileinfo in upload_widget.value.items():\n",
        "            dest = os.path.join(\"test_case\", \"peptide_seq.fasta\")\n",
        "            with open(dest, 'wb') as f:\n",
        "                f.write(fileinfo['content'])\n",
        "            print(f\"Saved batch file to {dest}\")\n",
        "\n",
        "mode_dropdown.observe(on_mode_change, names='value')\n",
        "save_button.on_click(save_sequence)\n",
        "process_button.on_click(process_upload)\n",
        "\n",
        "display(mode_dropdown, output)\n",
        "on_mode_change({'new': mode_dropdown.value})"
      ]
    },
    {
      "cell_type": "code",
      "execution_count": 5,
      "metadata": {
        "cellView": "form",
        "colab": {
          "base_uri": "https://localhost:8080/"
        },
        "id": "Nt9hFAMAqM-b",
        "outputId": "b5fcbb3e-6bf7-47de-cb3c-678a1277ba1a"
      },
      "outputs": [
        {
          "name": "stdout",
          "output_type": "stream",
          "text": [
            "Files will be written to test_case\n",
            "/usr/local/lib/python3.11/dist-packages/Bio/PDB/PDBParser.py:384: PDBConstructionWarning: Ignoring unrecognized record 'END' at line 4861\n",
            "  warnings.warn(\n",
            "Finished test_case/7Z6F.pdb in 0.45s\n",
            "Finished processing 1/1 files. Start ESM embedding...\n",
            "Model file /content/DiffPepBuilder/experiments/checkpoints/esm2_t33_650M_UR50D.pt not found. Downloading...\n",
            "Model file /content/DiffPepBuilder/experiments/checkpoints/esm2_t33_650M_UR50D-contact-regression.pt not found. Downloading...\n",
            "Read sequence data with 2 sequences\n",
            "Processing protein sequence batches:   0% 0/1 [00:00<?, ?it/s]Processing 1 of 1 batches (2 sequences)\n",
            "Processing protein sequence batches: 100% 1/1 [00:01<00:00,  1.44s/it]\n",
            "1it [00:00, 151.98it/s]\n"
          ]
        }
      ],
      "source": [
        "#@title ### Preprocess receptor and peptide sequence data\n",
        "!python DiffPepBuilder/experiments/process_batch_dock.py \\\n",
        "  --pdb_dir test_case \\\n",
        "  --write_dir test_case \\\n",
        "  --receptor_info_path test_case/docking_cases.json \\\n",
        "  --peptide_seq_path test_case/peptide_seq.fasta"
      ]
    },
    {
      "cell_type": "code",
      "execution_count": 6,
      "metadata": {
        "cellView": "form",
        "id": "vL6Rz2IHJS-d"
      },
      "outputs": [],
      "source": [
        "#@title ### Customize docking settings\n",
        "import yaml\n",
        "\n",
        "#@markdown #### Sampling params\n",
        "denoising_steps = \"200\" #@param [100, 200, 500]\n",
        "noise_scale = \"1\" #@param [0.5, 1, 1.5, 2, 2.5]\n",
        "samples_per_sequence = 4 #@param {type:\"integer\"}\n",
        "\n",
        "yaml_file_path = \"DiffPepBuilder/config/docking.yaml\"\n",
        "with open(yaml_file_path, 'r') as file:\n",
        "  yaml_data = yaml.safe_load(file)\n",
        "\n",
        "yaml_data['data']['num_t'] = int(denoising_steps)\n",
        "yaml_data['experiment']['noise_scale'] = float(noise_scale)\n",
        "yaml_data['data']['num_repeat_per_eval_sample'] = int(samples_per_sequence)\n",
        "\n",
        "with open(yaml_file_path, 'w') as file:\n",
        "  yaml.dump(yaml_data, file, default_flow_style=False)\n"
      ]
    },
    {
      "cell_type": "code",
      "execution_count": 7,
      "metadata": {
        "cellView": "form",
        "colab": {
          "base_uri": "https://localhost:8080/"
        },
        "id": "isAKfCpHTEhh",
        "outputId": "c9c2052c-ee31-46a8-d11f-2095f5dceeeb"
      },
      "outputs": [
        {
          "name": "stdout",
          "output_type": "stream",
          "text": [
            "[2025-05-17 18:03:18,252][experiments.train][INFO] - Loading checkpoint from /content/DiffPepBuilder/experiments/checkpoints/diffpepdock_v1.pth\n",
            "[2025-05-17 18:03:24,557][data.so3_diffuser][INFO] - Computing IGSO3. Saving in /content/DiffPepBuilder/runs/cache/eps_1000_omega_1000_min_sigma_0_1_max_sigma_1_5_schedule_logarithmic\n",
            "[2025-05-17 18:04:38,745][experiments.train][INFO] - Number of model parameters: 103.66 M\n",
            "[2025-05-17 18:04:44,177][experiments.train][INFO] - Evaluation mode only, no checkpoint being saved.\n",
            "[2025-05-17 18:04:44,179][experiments.train][INFO] - Evaluation saved to: /content/DiffPepBuilder/runs/docking/17D_05M_2025Y_18h_04m\n",
            "[2025-05-17 18:04:44,322][experiments.train][INFO] - Using device: cuda:0\n",
            "[2025-05-17 18:04:44,337][data.pdb_data_loader][INFO] - Validation: 1 examples\n",
            "/usr/local/lib/python3.11/dist-packages/torch/nn/modules/transformer.py:508: UserWarning: The PyTorch API of nested tensors is in prototype stage and will change in the near future. We recommend specifying layout=torch.jagged when constructing a nested tensor, as this layout receives active development, has better operator coverage, and works with torch.compile. (Triggered internally at /pytorch/aten/src/ATen/NestedTensorImpl.cpp:178.)\n",
            "  output = torch._nested_tensor_from_mask(\n",
            "[2025-05-17 18:06:50,121][experiments.train][INFO] - Done sample 7Z6F (peptide ligand id: nat, sample: 0), saved to /content/DiffPepBuilder/runs/docking/17D_05M_2025Y_18h_04m/7Z6F/nat/7Z6F_nat_sample_0.pdb\n",
            "[2025-05-17 18:06:50,136][experiments.train][INFO] - Done sample 7Z6F (peptide ligand id: nat, sample: 1), saved to /content/DiffPepBuilder/runs/docking/17D_05M_2025Y_18h_04m/7Z6F/nat/7Z6F_nat_sample_1.pdb\n",
            "[2025-05-17 18:06:50,152][experiments.train][INFO] - Done sample 7Z6F (peptide ligand id: nat, sample: 2), saved to /content/DiffPepBuilder/runs/docking/17D_05M_2025Y_18h_04m/7Z6F/nat/7Z6F_nat_sample_2.pdb\n",
            "[2025-05-17 18:06:50,167][experiments.train][INFO] - Done sample 7Z6F (peptide ligand id: nat, sample: 3), saved to /content/DiffPepBuilder/runs/docking/17D_05M_2025Y_18h_04m/7Z6F/nat/7Z6F_nat_sample_3.pdb\n",
            "[2025-05-17 18:06:50,167][experiments.train][INFO] - Finished all peptide docking tasks in 125.83s.\n"
          ]
        }
      ],
      "source": [
        "#@title ### Run docking\n",
        "os.environ['BASE_PATH'] = \"/content/DiffPepBuilder\"\n",
        "\n",
        "!torchrun --nproc-per-node=1 DiffPepBuilder/experiments/run_docking.py \\\n",
        "  data.val_csv_path=test_case/metadata_test.csv \\\n",
        "  experiment.use_ddp=False \\\n",
        "  experiment.num_gpus=1 \\\n",
        "  experiment.num_loader_workers=1"
      ]
    },
    {
      "cell_type": "code",
      "execution_count": null,
      "metadata": {
        "cellView": "form",
        "colab": {
          "base_uri": "https://localhost:8080/",
          "height": 17
        },
        "id": "SD90AEzE5TVm",
        "outputId": "1a3e59e1-8516-4cd4-995b-9ddf4f74608a"
      },
      "outputs": [
        {
          "data": {
            "application/javascript": "\n    async function download(id, filename, size) {\n      if (!google.colab.kernel.accessAllowed) {\n        return;\n      }\n      const div = document.createElement('div');\n      const label = document.createElement('label');\n      label.textContent = `Downloading \"${filename}\": `;\n      div.appendChild(label);\n      const progress = document.createElement('progress');\n      progress.max = size;\n      div.appendChild(progress);\n      document.body.appendChild(div);\n\n      const buffers = [];\n      let downloaded = 0;\n\n      const channel = await google.colab.kernel.comms.open(id);\n      // Send a message to notify the kernel that we're ready.\n      channel.send({})\n\n      for await (const message of channel.messages) {\n        // Send a message to notify the kernel that we're ready.\n        channel.send({})\n        if (message.buffers) {\n          for (const buffer of message.buffers) {\n            buffers.push(buffer);\n            downloaded += buffer.byteLength;\n            progress.value = downloaded;\n          }\n        }\n      }\n      const blob = new Blob(buffers, {type: 'application/binary'});\n      const a = document.createElement('a');\n      a.href = window.URL.createObjectURL(blob);\n      a.download = filename;\n      div.appendChild(a);\n      a.click();\n      div.remove();\n    }\n  ",
            "text/plain": [
              "<IPython.core.display.Javascript object>"
            ]
          },
          "metadata": {},
          "output_type": "display_data"
        },
        {
          "data": {
            "application/javascript": "download(\"download_717cec77-296a-4d61-b4db-164819da55cb\", \"docking_results.tar.gz\", 56204)",
            "text/plain": [
              "<IPython.core.display.Javascript object>"
            ]
          },
          "metadata": {},
          "output_type": "display_data"
        }
      ],
      "source": [
        "#@title ### Download results\n",
        "#@markdown - The docking results will be saved in the `DiffPepBuilder/runs` folder.\n",
        "\n",
        "!tar --directory=/content/DiffPepBuilder/runs -czf /content/docking_results.tar.gz docking\n",
        "files.download(\"/content/docking_results.tar.gz\")"
      ]
    }
  ],
  "metadata": {
    "accelerator": "GPU",
    "colab": {
      "gpuType": "T4",
      "provenance": []
    },
    "kernelspec": {
      "display_name": "Python 3",
      "name": "python3"
    },
    "language_info": {
      "name": "python",
      "version": "3.9.16"
    },
    "widgets": {
      "application/vnd.jupyter.widget-state+json": {
        "09e480a3c4a847e9ad4257a84cc7eae9": {
          "model_module": "@jupyter-widgets/base",
          "model_module_version": "1.2.0",
          "model_name": "LayoutModel",
          "state": {
            "_model_module": "@jupyter-widgets/base",
            "_model_module_version": "1.2.0",
            "_model_name": "LayoutModel",
            "_view_count": null,
            "_view_module": "@jupyter-widgets/base",
            "_view_module_version": "1.2.0",
            "_view_name": "LayoutView",
            "align_content": null,
            "align_items": null,
            "align_self": null,
            "border": null,
            "bottom": null,
            "display": null,
            "flex": null,
            "flex_flow": null,
            "grid_area": null,
            "grid_auto_columns": null,
            "grid_auto_flow": null,
            "grid_auto_rows": null,
            "grid_column": null,
            "grid_gap": null,
            "grid_row": null,
            "grid_template_areas": null,
            "grid_template_columns": null,
            "grid_template_rows": null,
            "height": null,
            "justify_content": null,
            "justify_items": null,
            "left": null,
            "margin": null,
            "max_height": null,
            "max_width": null,
            "min_height": null,
            "min_width": null,
            "object_fit": null,
            "object_position": null,
            "order": null,
            "overflow": null,
            "overflow_x": null,
            "overflow_y": null,
            "padding": null,
            "right": null,
            "top": null,
            "visibility": null,
            "width": null
          }
        },
        "09eae9ce050e44e0bd9fb40a6a839dc9": {
          "model_module": "@jupyter-widgets/base",
          "model_module_version": "1.2.0",
          "model_name": "LayoutModel",
          "state": {
            "_model_module": "@jupyter-widgets/base",
            "_model_module_version": "1.2.0",
            "_model_name": "LayoutModel",
            "_view_count": null,
            "_view_module": "@jupyter-widgets/base",
            "_view_module_version": "1.2.0",
            "_view_name": "LayoutView",
            "align_content": null,
            "align_items": null,
            "align_self": null,
            "border": null,
            "bottom": null,
            "display": null,
            "flex": null,
            "flex_flow": null,
            "grid_area": null,
            "grid_auto_columns": null,
            "grid_auto_flow": null,
            "grid_auto_rows": null,
            "grid_column": null,
            "grid_gap": null,
            "grid_row": null,
            "grid_template_areas": null,
            "grid_template_columns": null,
            "grid_template_rows": null,
            "height": null,
            "justify_content": null,
            "justify_items": null,
            "left": null,
            "margin": null,
            "max_height": null,
            "max_width": null,
            "min_height": null,
            "min_width": null,
            "object_fit": null,
            "object_position": null,
            "order": null,
            "overflow": null,
            "overflow_x": null,
            "overflow_y": null,
            "padding": null,
            "right": null,
            "top": null,
            "visibility": null,
            "width": null
          }
        },
        "1204d705d47d4604879c2ec181998b88": {
          "model_module": "@jupyter-widgets/base",
          "model_module_version": "1.2.0",
          "model_name": "LayoutModel",
          "state": {
            "_model_module": "@jupyter-widgets/base",
            "_model_module_version": "1.2.0",
            "_model_name": "LayoutModel",
            "_view_count": null,
            "_view_module": "@jupyter-widgets/base",
            "_view_module_version": "1.2.0",
            "_view_name": "LayoutView",
            "align_content": null,
            "align_items": null,
            "align_self": null,
            "border": null,
            "bottom": null,
            "display": null,
            "flex": null,
            "flex_flow": null,
            "grid_area": null,
            "grid_auto_columns": null,
            "grid_auto_flow": null,
            "grid_auto_rows": null,
            "grid_column": null,
            "grid_gap": null,
            "grid_row": null,
            "grid_template_areas": null,
            "grid_template_columns": null,
            "grid_template_rows": null,
            "height": null,
            "justify_content": null,
            "justify_items": null,
            "left": null,
            "margin": null,
            "max_height": null,
            "max_width": null,
            "min_height": null,
            "min_width": null,
            "object_fit": null,
            "object_position": null,
            "order": null,
            "overflow": null,
            "overflow_x": null,
            "overflow_y": null,
            "padding": null,
            "right": null,
            "top": null,
            "visibility": null,
            "width": null
          }
        },
        "3685d76714dc463cbb23ec80b9400ca3": {
          "model_module": "@jupyter-widgets/base",
          "model_module_version": "1.2.0",
          "model_name": "LayoutModel",
          "state": {
            "_model_module": "@jupyter-widgets/base",
            "_model_module_version": "1.2.0",
            "_model_name": "LayoutModel",
            "_view_count": null,
            "_view_module": "@jupyter-widgets/base",
            "_view_module_version": "1.2.0",
            "_view_name": "LayoutView",
            "align_content": null,
            "align_items": null,
            "align_self": null,
            "border": null,
            "bottom": null,
            "display": null,
            "flex": null,
            "flex_flow": null,
            "grid_area": null,
            "grid_auto_columns": null,
            "grid_auto_flow": null,
            "grid_auto_rows": null,
            "grid_column": null,
            "grid_gap": null,
            "grid_row": null,
            "grid_template_areas": null,
            "grid_template_columns": null,
            "grid_template_rows": null,
            "height": null,
            "justify_content": null,
            "justify_items": null,
            "left": null,
            "margin": null,
            "max_height": null,
            "max_width": null,
            "min_height": null,
            "min_width": null,
            "object_fit": null,
            "object_position": null,
            "order": null,
            "overflow": null,
            "overflow_x": null,
            "overflow_y": null,
            "padding": null,
            "right": null,
            "top": null,
            "visibility": null,
            "width": null
          }
        },
        "53acccaa93e64f63add068ceef8b3c5c": {
          "model_module": "@jupyter-widgets/controls",
          "model_module_version": "1.5.0",
          "model_name": "TextModel",
          "state": {
            "_dom_classes": [],
            "_model_module": "@jupyter-widgets/controls",
            "_model_module_version": "1.5.0",
            "_model_name": "TextModel",
            "_view_count": null,
            "_view_module": "@jupyter-widgets/controls",
            "_view_module_version": "1.5.0",
            "_view_name": "TextView",
            "continuous_update": true,
            "description": "Peptide Sequence:",
            "description_tooltip": null,
            "disabled": false,
            "layout": "IPY_MODEL_09e480a3c4a847e9ad4257a84cc7eae9",
            "placeholder": "​",
            "style": "IPY_MODEL_a46d6eee5a1144d3a3e124553ac35ef7",
            "value": "VLGEPRYAFNFN"
          }
        },
        "69097fbc19aa480793ae981e40858a1a": {
          "model_module": "@jupyter-widgets/controls",
          "model_module_version": "1.5.0",
          "model_name": "DescriptionStyleModel",
          "state": {
            "_model_module": "@jupyter-widgets/controls",
            "_model_module_version": "1.5.0",
            "_model_name": "DescriptionStyleModel",
            "_view_count": null,
            "_view_module": "@jupyter-widgets/base",
            "_view_module_version": "1.2.0",
            "_view_name": "StyleView",
            "description_width": "initial"
          }
        },
        "69803eb9483845b3b6be97d7778ee51c": {
          "model_module": "@jupyter-widgets/controls",
          "model_module_version": "1.5.0",
          "model_name": "DescriptionStyleModel",
          "state": {
            "_model_module": "@jupyter-widgets/controls",
            "_model_module_version": "1.5.0",
            "_model_name": "DescriptionStyleModel",
            "_view_count": null,
            "_view_module": "@jupyter-widgets/base",
            "_view_module_version": "1.2.0",
            "_view_name": "StyleView",
            "description_width": "initial"
          }
        },
        "7ef71f4eeddc435a82c94658dfaf42b8": {
          "model_module": "@jupyter-widgets/controls",
          "model_module_version": "1.5.0",
          "model_name": "DropdownModel",
          "state": {
            "_dom_classes": [],
            "_model_module": "@jupyter-widgets/controls",
            "_model_module_version": "1.5.0",
            "_model_name": "DropdownModel",
            "_options_labels": [
              "single",
              "batch"
            ],
            "_view_count": null,
            "_view_module": "@jupyter-widgets/controls",
            "_view_module_version": "1.5.0",
            "_view_name": "DropdownView",
            "description": "Docking Mode:",
            "description_tooltip": null,
            "disabled": false,
            "index": 0,
            "layout": "IPY_MODEL_3685d76714dc463cbb23ec80b9400ca3",
            "style": "IPY_MODEL_69803eb9483845b3b6be97d7778ee51c"
          }
        },
        "97f68e005d33404b8e2e5012dc4a6637": {
          "model_module": "@jupyter-widgets/controls",
          "model_module_version": "1.5.0",
          "model_name": "ButtonModel",
          "state": {
            "_dom_classes": [],
            "_model_module": "@jupyter-widgets/controls",
            "_model_module_version": "1.5.0",
            "_model_name": "ButtonModel",
            "_view_count": null,
            "_view_module": "@jupyter-widgets/controls",
            "_view_module_version": "1.5.0",
            "_view_name": "ButtonView",
            "button_style": "success",
            "description": "Save Sequence",
            "disabled": false,
            "icon": "",
            "layout": "IPY_MODEL_1204d705d47d4604879c2ec181998b88",
            "style": "IPY_MODEL_b148c5fabc024bcd85deff606e5c2002",
            "tooltip": ""
          }
        },
        "996d3b9d1f98441fa9ed8b15d61927a7": {
          "model_module": "@jupyter-widgets/controls",
          "model_module_version": "1.5.0",
          "model_name": "TextModel",
          "state": {
            "_dom_classes": [],
            "_model_module": "@jupyter-widgets/controls",
            "_model_module_version": "1.5.0",
            "_model_name": "TextModel",
            "_view_count": null,
            "_view_module": "@jupyter-widgets/controls",
            "_view_module_version": "1.5.0",
            "_view_name": "TextView",
            "continuous_update": true,
            "description": "Peptide ID:",
            "description_tooltip": null,
            "disabled": false,
            "layout": "IPY_MODEL_f0aec23a2b2b470ba804467f39379515",
            "placeholder": "​",
            "style": "IPY_MODEL_69097fbc19aa480793ae981e40858a1a",
            "value": "nat"
          }
        },
        "9a7c6be60eca4a1781e9aca024880142": {
          "model_module": "@jupyter-widgets/output",
          "model_module_version": "1.0.0",
          "model_name": "OutputModel",
          "state": {
            "_dom_classes": [],
            "_model_module": "@jupyter-widgets/output",
            "_model_module_version": "1.0.0",
            "_model_name": "OutputModel",
            "_view_count": null,
            "_view_module": "@jupyter-widgets/output",
            "_view_module_version": "1.0.0",
            "_view_name": "OutputView",
            "layout": "IPY_MODEL_fac0c2603f914ba88c97e3fef52d86b9",
            "msg_id": "",
            "outputs": [
              {
                "data": {
                  "application/vnd.jupyter.widget-view+json": {
                    "model_id": "b7e096aa7df4486e99779076621d8094",
                    "version_major": 2,
                    "version_minor": 0
                  },
                  "text/plain": "VBox(children=(Text(value='VLGEPRYAFNFN', description='Peptide Sequence:', style=DescriptionStyle(description_…"
                },
                "metadata": {},
                "output_type": "display_data"
              },
              {
                "name": "stdout",
                "output_type": "stream",
                "text": [
                  "Saved single-sequence file to test_case/peptide_seq.fasta\n"
                ]
              }
            ]
          }
        },
        "a46d6eee5a1144d3a3e124553ac35ef7": {
          "model_module": "@jupyter-widgets/controls",
          "model_module_version": "1.5.0",
          "model_name": "DescriptionStyleModel",
          "state": {
            "_model_module": "@jupyter-widgets/controls",
            "_model_module_version": "1.5.0",
            "_model_name": "DescriptionStyleModel",
            "_view_count": null,
            "_view_module": "@jupyter-widgets/base",
            "_view_module_version": "1.2.0",
            "_view_name": "StyleView",
            "description_width": "initial"
          }
        },
        "b148c5fabc024bcd85deff606e5c2002": {
          "model_module": "@jupyter-widgets/controls",
          "model_module_version": "1.5.0",
          "model_name": "ButtonStyleModel",
          "state": {
            "_model_module": "@jupyter-widgets/controls",
            "_model_module_version": "1.5.0",
            "_model_name": "ButtonStyleModel",
            "_view_count": null,
            "_view_module": "@jupyter-widgets/base",
            "_view_module_version": "1.2.0",
            "_view_name": "StyleView",
            "button_color": null,
            "font_weight": ""
          }
        },
        "b7e096aa7df4486e99779076621d8094": {
          "model_module": "@jupyter-widgets/controls",
          "model_module_version": "1.5.0",
          "model_name": "VBoxModel",
          "state": {
            "_dom_classes": [],
            "_model_module": "@jupyter-widgets/controls",
            "_model_module_version": "1.5.0",
            "_model_name": "VBoxModel",
            "_view_count": null,
            "_view_module": "@jupyter-widgets/controls",
            "_view_module_version": "1.5.0",
            "_view_name": "VBoxView",
            "box_style": "",
            "children": [
              "IPY_MODEL_53acccaa93e64f63add068ceef8b3c5c",
              "IPY_MODEL_996d3b9d1f98441fa9ed8b15d61927a7",
              "IPY_MODEL_97f68e005d33404b8e2e5012dc4a6637"
            ],
            "layout": "IPY_MODEL_09eae9ce050e44e0bd9fb40a6a839dc9"
          }
        },
        "f0aec23a2b2b470ba804467f39379515": {
          "model_module": "@jupyter-widgets/base",
          "model_module_version": "1.2.0",
          "model_name": "LayoutModel",
          "state": {
            "_model_module": "@jupyter-widgets/base",
            "_model_module_version": "1.2.0",
            "_model_name": "LayoutModel",
            "_view_count": null,
            "_view_module": "@jupyter-widgets/base",
            "_view_module_version": "1.2.0",
            "_view_name": "LayoutView",
            "align_content": null,
            "align_items": null,
            "align_self": null,
            "border": null,
            "bottom": null,
            "display": null,
            "flex": null,
            "flex_flow": null,
            "grid_area": null,
            "grid_auto_columns": null,
            "grid_auto_flow": null,
            "grid_auto_rows": null,
            "grid_column": null,
            "grid_gap": null,
            "grid_row": null,
            "grid_template_areas": null,
            "grid_template_columns": null,
            "grid_template_rows": null,
            "height": null,
            "justify_content": null,
            "justify_items": null,
            "left": null,
            "margin": null,
            "max_height": null,
            "max_width": null,
            "min_height": null,
            "min_width": null,
            "object_fit": null,
            "object_position": null,
            "order": null,
            "overflow": null,
            "overflow_x": null,
            "overflow_y": null,
            "padding": null,
            "right": null,
            "top": null,
            "visibility": null,
            "width": null
          }
        },
        "fac0c2603f914ba88c97e3fef52d86b9": {
          "model_module": "@jupyter-widgets/base",
          "model_module_version": "1.2.0",
          "model_name": "LayoutModel",
          "state": {
            "_model_module": "@jupyter-widgets/base",
            "_model_module_version": "1.2.0",
            "_model_name": "LayoutModel",
            "_view_count": null,
            "_view_module": "@jupyter-widgets/base",
            "_view_module_version": "1.2.0",
            "_view_name": "LayoutView",
            "align_content": null,
            "align_items": null,
            "align_self": null,
            "border": null,
            "bottom": null,
            "display": null,
            "flex": null,
            "flex_flow": null,
            "grid_area": null,
            "grid_auto_columns": null,
            "grid_auto_flow": null,
            "grid_auto_rows": null,
            "grid_column": null,
            "grid_gap": null,
            "grid_row": null,
            "grid_template_areas": null,
            "grid_template_columns": null,
            "grid_template_rows": null,
            "height": null,
            "justify_content": null,
            "justify_items": null,
            "left": null,
            "margin": null,
            "max_height": null,
            "max_width": null,
            "min_height": null,
            "min_width": null,
            "object_fit": null,
            "object_position": null,
            "order": null,
            "overflow": null,
            "overflow_x": null,
            "overflow_y": null,
            "padding": null,
            "right": null,
            "top": null,
            "visibility": null,
            "width": null
          }
        }
      }
    }
  },
  "nbformat": 4,
  "nbformat_minor": 0
}
