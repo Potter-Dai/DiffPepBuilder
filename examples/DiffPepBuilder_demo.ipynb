{
 "cells": [
  {
   "cell_type": "markdown",
   "metadata": {
    "id": "Lf7MMQef4zVc"
   },
   "source": [
    "# Target-Specific De Novo Peptide Binder Design with DiffPepBuilder"
   ]
  },
  {
   "cell_type": "markdown",
   "metadata": {
    "id": "wuobwMy44zVd"
   },
   "source": [
    "This notebook demonstrates how to use the [DiffPepBuilder](https://github.com/YuzheWangPKU/DiffPepBuilder) package to design peptides that bind to a target protein. We provide an example of the target ALK1 (Activin Receptor-like Kinase 1, PDB ID: [6SF1](https://www.rcsb.org/structure/6SF1)) to demonstrate the procedures of generating peptide binders."
   ]
  },
  {
   "cell_type": "markdown",
   "metadata": {
    "id": "M-oQLvH3rLw1"
   },
   "source": [
    "## Setup"
   ]
  },
  {
   "cell_type": "code",
   "execution_count": 1,
   "metadata": {
    "cellView": "form",
    "colab": {
     "base_uri": "https://localhost:8080/"
    },
    "executionInfo": {
     "elapsed": 63453,
     "status": "ok",
     "timestamp": 1721977187874,
     "user": {
      "displayName": "Yuzhe Wang",
      "userId": "12831310028322127769"
     },
     "user_tz": -480
    },
    "id": "JH01KLI65ZKP",
    "outputId": "e593d0ae-4ef4-463b-be3b-65e49e1700be"
   },
   "outputs": [
    {
     "name": "stdout",
     "output_type": "stream",
     "text": [
      "Installing DiffPepBuilder...\n",
      "Installing SSBLIB...\n",
      "Downloading model weights...\n",
      "DiffPepBuilder is installed and ready.\n"
     ]
    }
   ],
   "source": [
    "#@title ### Download model assets\n",
    "import os\n",
    "\n",
    "diffpep_folder = \"DiffPepBuilder\"\n",
    "ssbuilder_lib = os.path.join(diffpep_folder, \"SSbuilder\", \"SSBLIB\")\n",
    "checkpoint_file = os.path.join(diffpep_folder, \"experiments\", \"checkpoints\", \"diffpepbuilder_v1.pth\")\n",
    "\n",
    "if not (os.path.isdir(diffpep_folder) and os.path.isdir(ssbuilder_lib) and os.path.isfile(checkpoint_file)):\n",
    "  print(\"Installing DiffPepBuilder...\")\n",
    "\n",
    "  if not os.path.isdir(diffpep_folder):\n",
    "    os.system(\"git clone https://github.com/YuzheWangPKU/DiffPepBuilder.git\")\n",
    "\n",
    "  os.chdir(diffpep_folder)\n",
    "\n",
    "  if not os.path.isdir(ssbuilder_lib):\n",
    "    print(\"Installing SSBLIB...\")\n",
    "    os.system(\"tar -xvf SSbuilder/SSBLIB.tar.gz -C SSbuilder\")\n",
    "\n",
    "  if not os.path.isfile(checkpoint_file):\n",
    "    print(\"Downloading model weights...\")\n",
    "    os.system(\"wget https://zenodo.org/records/12794439/files/diffpepbuilder_v1.pth\")\n",
    "    os.makedirs(\"experiments/checkpoints/\", exist_ok=True)\n",
    "    os.system(\"mv diffpepbuilder_v1.pth experiments/checkpoints/\")\n",
    "\n",
    "  os.chdir(\"..\")\n",
    "  print(\"DiffPepBuilder is installed and ready.\")\n",
    "\n",
    "else:\n",
    "  print(\"DiffPepBuilder is already installed and ready.\")"
   ]
  },
  {
   "cell_type": "code",
   "execution_count": 2,
   "metadata": {
    "cellView": "form",
    "colab": {
     "base_uri": "https://localhost:8080/"
    },
    "executionInfo": {
     "elapsed": 25543,
     "status": "ok",
     "timestamp": 1721977213414,
     "user": {
      "displayName": "Yuzhe Wang",
      "userId": "12831310028322127769"
     },
     "user_tz": -480
    },
    "id": "pDG1HhY1-f8k",
    "outputId": "49ad148e-198c-4c04-e0f5-24ddbf08ea6c"
   },
   "outputs": [
    {
     "name": "stdout",
     "output_type": "stream",
     "text": [
      "Installing pdbfixer...\n",
      "pdbfixer is installed.\n"
     ]
    },
    {
     "data": {
      "text/plain": [
       "0"
      ]
     },
     "execution_count": 2,
     "metadata": {},
     "output_type": "execute_result"
    }
   ],
   "source": [
    "#@title ### Install dependencies\n",
    "os.system(\"pip install wget wandb fair-esm biotite pyrootutils easydict biopython tqdm ml-collections mdtraj GPUtil dm-tree tmtools py3Dmol\")\n",
    "\n",
    "pdbfixer_folder = \"pdbfixer\"\n",
    "if not os.path.isdir(pdbfixer_folder):\n",
    "  print(\"Installing pdbfixer...\")\n",
    "  os.system(\"git clone https://github.com/openmm/pdbfixer.git\")\n",
    "  os.chdir(pdbfixer_folder)\n",
    "  os.system(\"python setup.py install\")\n",
    "  os.chdir(\"..\")\n",
    "  print(\"pdbfixer is installed.\")\n",
    "else:\n",
    "  print(\"pdbfixer is already cloned.\")\n",
    "\n",
    "os.system(\"pip install hydra-core hydra-joblib-launcher\")"
   ]
  },
  {
   "cell_type": "markdown",
   "metadata": {
    "id": "m5ld4hUNqTcP"
   },
   "source": [
    "## Inference"
   ]
  },
  {
   "cell_type": "code",
   "execution_count": null,
   "metadata": {
    "cellView": "form",
    "executionInfo": {
     "elapsed": 4,
     "status": "ok",
     "timestamp": 1721977213414,
     "user": {
      "displayName": "Yuzhe Wang",
      "userId": "12831310028322127769"
     },
     "user_tz": -480
    },
    "id": "0KH7alTw5R-M"
   },
   "outputs": [],
   "source": [
    "#@title ### Specify receptor information\n",
    "from google.colab import files\n",
    "import json\n",
    "\n",
    "os.makedirs(\"test_case\", exist_ok=True)\n",
    "receptor_type = \"default (ALK1)\" #@param [\"default (ALK1)\", \"uploaded\"]\n",
    "\n",
    "if receptor_type == \"uploaded\":\n",
    "  uploaded_pdb = files.upload()\n",
    "  file_name = next(iter(uploaded_pdb))\n",
    "  os.system(f\"mv {file_name} test_case/\")\n",
    "else:\n",
    "  file_name = \"alk1.pdb\"\n",
    "  os.system(f\"cp DiffPepBuilder/examples/receptor_data/alk1.pdb test_case/\")\n",
    "\n",
    "lig_chain = None #@param {type:\"string\"}\n",
    "#@markdown  - Chain ID of the **reference** ligand. Please set to `None` if no reference ligand is included in the PDB file.  \n",
    "#@markdown  The model will prioritize reference ligand information over the hotspots and motif if both are given.\n",
    "hotspots = \"B40,B58,B59,B71,B72,B87\" #@param {type:\"string\"}\n",
    "motif = \"B38,B39,B40,B41,B42,B47,B48,B49,B50,B52,B53,B54,B55,B56,B57,B58,B59,B60,B61,B64,B65,B66,B67,B69,B70,B71,B72,B73,B74,B75,B76,B77,B82,B83,B84,B85,B86,B87\" #@param {type:\"string\"}\n",
    "#@markdown - **Note**: the model will prioritize hotspots over the motif when both are given. See the [paper](https://arxiv.org/abs/2405.00128) for more details.\n",
    "\n",
    "key = os.path.splitext(file_name)[0]\n",
    "data = {}\n",
    "if lig_chain and lig_chain != \"None\":\n",
    "  data['lig_chain'] = lig_chain\n",
    "if hotspots and hotspots != \"None\":\n",
    "  data['hotspots'] = hotspots.replace(\",\", \"-\")\n",
    "if motif and motif != \"None\":\n",
    "  data['motif'] = motif.replace(\",\", \"-\")\n",
    "\n",
    "json_file_write_path = \"test_case/de_novo_cases.json\"\n",
    "final_data = {key: data}\n",
    "with open(json_file_write_path, 'w') as file:\n",
    "  json.dump(final_data, file, indent=4)"
   ]
  },
  {
   "cell_type": "code",
   "execution_count": 4,
   "metadata": {
    "cellView": "form",
    "colab": {
     "base_uri": "https://localhost:8080/"
    },
    "executionInfo": {
     "elapsed": 44660,
     "status": "ok",
     "timestamp": 1721977258070,
     "user": {
      "displayName": "Yuzhe Wang",
      "userId": "12831310028322127769"
     },
     "user_tz": -480
    },
    "id": "Nt9hFAMAqM-b",
    "outputId": "4fd93b95-dfc9-464b-8685-790f2c2bdbcd"
   },
   "outputs": [
    {
     "name": "stdout",
     "output_type": "stream",
     "text": [
      "Files will be written to test_case\n",
      "/content/DiffPepBuilder/experiments/process_receptor.py:278: UserWarning: Both motif and hotspots are found for alk1. The hotspots will be used in priority over the motif.\n",
      "  warnings.warn(f\"Both motif and hotspots are found for {pdb_name}. \"\n",
      "Finished test_case/alk1.pdb in 0.15s\n",
      "Finished processing 1/1 files. Start ESM embedding...\n",
      "Model file /content/DiffPepBuilder/experiments/checkpoints/esm2_t33_650M_UR50D.pt not found. Downloading...\n",
      "Model file /content/DiffPepBuilder/experiments/checkpoints/esm2_t33_650M_UR50D-contact-regression.pt not found. Downloading...\n",
      "Read sequence data with 1 sequences\n",
      "Processing protein sequence batches:   0% 0/1 [00:00<?, ?it/s]Processing 1 of 1 batches (1 sequences)\n",
      "Processing protein sequence batches: 100% 1/1 [00:01<00:00,  1.70s/it]\n",
      "100% 1/1 [00:00<00:00, 1016.31it/s]\n"
     ]
    }
   ],
   "source": [
    "#@title ### Preprocess receptors\n",
    "!python DiffPepBuilder/experiments/process_receptor.py \\\n",
    "  --pdb_dir test_case \\\n",
    "  --write_dir test_case \\\n",
    "  --peptide_info_path test_case/de_novo_cases.json"
   ]
  },
  {
   "cell_type": "code",
   "execution_count": 5,
   "metadata": {
    "cellView": "form",
    "executionInfo": {
     "elapsed": 11,
     "status": "ok",
     "timestamp": 1721977258070,
     "user": {
      "displayName": "Yuzhe Wang",
      "userId": "12831310028322127769"
     },
     "user_tz": -480
    },
    "id": "vL6Rz2IHJS-d"
   },
   "outputs": [],
   "source": [
    "#@title ### Customize generation settings\n",
    "import yaml\n",
    "\n",
    "#@markdown #### Sampling params\n",
    "denoising_steps = \"200\" #@param [100, 200, 500]\n",
    "noise_scale = \"1\" #@param [0.5, 1, 1.5, 2, 2.5]\n",
    "seq_temperature = \"0.1\" #@param [0.1, 0.5, 1, 2.5, 10]\n",
    "\n",
    "#@markdown #### Peptide length\n",
    "min_length = 12 #@param {type:\"integer\"}\n",
    "max_length = 16 #@param {type:\"integer\"}\n",
    "samples_per_length = 4 #@param {type:\"integer\"}\n",
    "\n",
    "#@markdown #### Disulfide bond settings\n",
    "build_ss_bond = True #@param {type:\"boolean\"}\n",
    "max_ss_bond = 2 #@param {type:\"integer\"}\n",
    "entropy_threshold = 0.01 #@param [0.001, 0.01, 0.05, 0.1, 0.5]\n",
    "\n",
    "yaml_file_path = \"DiffPepBuilder/config/inference.yaml\"\n",
    "with open(yaml_file_path, 'r') as file:\n",
    "  yaml_data = yaml.safe_load(file)\n",
    "\n",
    "yaml_data['inference']['denoising']['num_t'] = int(denoising_steps)\n",
    "yaml_data['inference']['denoising']['noise_scale'] = float(noise_scale)\n",
    "yaml_data['inference']['sampling']['samples_per_length'] = samples_per_length\n",
    "yaml_data['inference']['sampling']['min_length'] = min_length\n",
    "yaml_data['inference']['sampling']['max_length'] = max_length\n",
    "yaml_data['inference']['sampling']['seq_temperature'] = float(seq_temperature)\n",
    "yaml_data['inference']['ss_bond']['build_ss_bond'] = build_ss_bond\n",
    "yaml_data['inference']['ss_bond']['max_ss_bond'] = max_ss_bond\n",
    "yaml_data['inference']['ss_bond']['entropy_threshold'] = float(entropy_threshold)\n",
    "\n",
    "with open(yaml_file_path, 'w') as file:\n",
    "  yaml.dump(yaml_data, file, default_flow_style=False)\n"
   ]
  },
  {
   "cell_type": "code",
   "execution_count": 6,
   "metadata": {
    "colab": {
     "base_uri": "https://localhost:8080/"
    },
    "executionInfo": {
     "elapsed": 289821,
     "status": "ok",
     "timestamp": 1721977547881,
     "user": {
      "displayName": "Yuzhe Wang",
      "userId": "12831310028322127769"
     },
     "user_tz": -480
    },
    "id": "isAKfCpHTEhh",
    "outputId": "ae566c6f-4a89-4703-b697-f16d702a0a8b"
   },
   "outputs": [
    {
     "name": "stdout",
     "output_type": "stream",
     "text": [
      "/usr/local/lib/python3.10/dist-packages/hydra/_internal/defaults_list.py:251: UserWarning: In 'inference': Defaults list is missing `_self_`. See https://hydra.cc/docs/1.2/upgrades/1.0_to_1.1/default_composition_order for more information\n",
      "  warnings.warn(msg, UserWarning)\n",
      "[2024-07-26 07:01:04,596][experiments.train][INFO] - Loading checkpoint from /content/DiffPepBuilder/experiments/checkpoints/diffpepbuilder_v1.pth\n",
      "[2024-07-26 07:01:10,848][data.so3_diffuser][INFO] - Computing IGSO3. Saving in /content/DiffPepBuilder/tests/cache/eps_1000_omega_1000_min_sigma_0_1_max_sigma_1_5_schedule_logarithmic\n",
      "[2024-07-26 07:02:35,833][experiments.train][INFO] - Number of model parameters: 103.66 M\n",
      "[2024-07-26 07:02:38,053][experiments.train][INFO] - Evaluation mode only, no checkpoint being saved.\n",
      "[2024-07-26 07:02:38,055][experiments.train][INFO] - Evaluation saved to: /content/DiffPepBuilder/tests/inference/26D_07M_2024Y_07h_02m\n",
      "[2024-07-26 07:02:38,181][experiments.train][INFO] - Using device: cuda:0\n",
      "[2024-07-26 07:02:38,191][data.pdb_data_loader][INFO] - Validation: 1 examples\n",
      "/usr/local/lib/python3.10/dist-packages/torch/nn/modules/transformer.py:408: UserWarning: The PyTorch API of nested tensors is in prototype stage and will change in the near future. (Triggered internally at ../aten/src/ATen/NestedTensorImpl.cpp:178.)\n",
      "  output = torch._nested_tensor_from_mask(output, src_key_padding_mask.logical_not(), mask_check=False)\n",
      "[2024-07-26 07:03:13,245][experiments.train][INFO] - Done sample alk1 (peptide length: 15, sample: 0), saved to /content/DiffPepBuilder/tests/inference/26D_07M_2024Y_07h_02m/alk1/length_15/alk1_sample_0.pdb\n",
      "[2024-07-26 07:03:13,252][experiments.train][INFO] - Done sample alk1 (peptide length: 15, sample: 1), saved to /content/DiffPepBuilder/tests/inference/26D_07M_2024Y_07h_02m/alk1/length_15/alk1_sample_1.pdb\n",
      "[2024-07-26 07:03:13,259][experiments.train][INFO] - Done sample alk1 (peptide length: 15, sample: 2), saved to /content/DiffPepBuilder/tests/inference/26D_07M_2024Y_07h_02m/alk1/length_15/alk1_sample_2.pdb\n",
      "[2024-07-26 07:03:13,271][experiments.train][INFO] - Done sample alk1 (peptide length: 15, sample: 3), saved to /content/DiffPepBuilder/tests/inference/26D_07M_2024Y_07h_02m/alk1/length_15/alk1_sample_3.pdb\n",
      "[2024-07-26 07:03:48,816][experiments.train][INFO] - Done sample alk1 (peptide length: 16, sample: 0), saved to /content/DiffPepBuilder/tests/inference/26D_07M_2024Y_07h_02m/alk1/length_16/alk1_sample_0.pdb\n",
      "[2024-07-26 07:03:48,828][experiments.train][INFO] - Done sample alk1 (peptide length: 16, sample: 1), saved to /content/DiffPepBuilder/tests/inference/26D_07M_2024Y_07h_02m/alk1/length_16/alk1_sample_1.pdb\n",
      "[2024-07-26 07:03:48,840][experiments.train][INFO] - Done sample alk1 (peptide length: 16, sample: 2), saved to /content/DiffPepBuilder/tests/inference/26D_07M_2024Y_07h_02m/alk1/length_16/alk1_sample_2.pdb\n",
      "[2024-07-26 07:03:48,853][experiments.train][INFO] - Done sample alk1 (peptide length: 16, sample: 3), saved to /content/DiffPepBuilder/tests/inference/26D_07M_2024Y_07h_02m/alk1/length_16/alk1_sample_3.pdb\n",
      "[2024-07-26 07:04:23,133][experiments.train][INFO] - Done sample alk1 (peptide length: 14, sample: 0), saved to /content/DiffPepBuilder/tests/inference/26D_07M_2024Y_07h_02m/alk1/length_14/alk1_sample_0.pdb\n",
      "[2024-07-26 07:04:23,140][experiments.train][INFO] - Done sample alk1 (peptide length: 14, sample: 1), saved to /content/DiffPepBuilder/tests/inference/26D_07M_2024Y_07h_02m/alk1/length_14/alk1_sample_1.pdb\n",
      "[2024-07-26 07:04:23,147][experiments.train][INFO] - Done sample alk1 (peptide length: 14, sample: 2), saved to /content/DiffPepBuilder/tests/inference/26D_07M_2024Y_07h_02m/alk1/length_14/alk1_sample_2.pdb\n",
      "[2024-07-26 07:04:23,154][experiments.train][INFO] - Done sample alk1 (peptide length: 14, sample: 3), saved to /content/DiffPepBuilder/tests/inference/26D_07M_2024Y_07h_02m/alk1/length_14/alk1_sample_3.pdb\n",
      "[2024-07-26 07:04:56,474][experiments.train][INFO] - Done sample alk1 (peptide length: 12, sample: 0), saved to /content/DiffPepBuilder/tests/inference/26D_07M_2024Y_07h_02m/alk1/length_12/alk1_sample_0.pdb\n",
      "[2024-07-26 07:04:56,485][experiments.train][INFO] - Done sample alk1 (peptide length: 12, sample: 1), saved to /content/DiffPepBuilder/tests/inference/26D_07M_2024Y_07h_02m/alk1/length_12/alk1_sample_1.pdb\n",
      "[2024-07-26 07:04:56,497][experiments.train][INFO] - Done sample alk1 (peptide length: 12, sample: 2), saved to /content/DiffPepBuilder/tests/inference/26D_07M_2024Y_07h_02m/alk1/length_12/alk1_sample_2.pdb\n",
      "[2024-07-26 07:04:56,509][experiments.train][INFO] - Done sample alk1 (peptide length: 12, sample: 3), saved to /content/DiffPepBuilder/tests/inference/26D_07M_2024Y_07h_02m/alk1/length_12/alk1_sample_3.pdb\n",
      "[2024-07-26 07:05:30,906][experiments.train][INFO] - Done sample alk1 (peptide length: 13, sample: 0), saved to /content/DiffPepBuilder/tests/inference/26D_07M_2024Y_07h_02m/alk1/length_13/alk1_sample_0.pdb\n",
      "[2024-07-26 07:05:30,913][experiments.train][INFO] - Done sample alk1 (peptide length: 13, sample: 1), saved to /content/DiffPepBuilder/tests/inference/26D_07M_2024Y_07h_02m/alk1/length_13/alk1_sample_1.pdb\n",
      "[2024-07-26 07:05:30,920][experiments.train][INFO] - Done sample alk1 (peptide length: 13, sample: 2), saved to /content/DiffPepBuilder/tests/inference/26D_07M_2024Y_07h_02m/alk1/length_13/alk1_sample_2.pdb\n",
      "[2024-07-26 07:05:30,927][experiments.train][INFO] - Done sample alk1 (peptide length: 13, sample: 3), saved to /content/DiffPepBuilder/tests/inference/26D_07M_2024Y_07h_02m/alk1/length_13/alk1_sample_3.pdb\n",
      "[2024-07-26 07:05:30,927][experiments.train][INFO] - Finished all de novo peptide generation tasks in 172.73s. Start post-processing...\n",
      "['A_13_F@A_15_V']\n",
      "[2024-07-26 07:05:35,058][experiments.train][INFO] - Try building SS bonds for /content/DiffPepBuilder/tests/inference/26D_07M_2024Y_07h_02m/alk1/length_15/alk1_sample_1.pdb...\n",
      "[2024-07-26 07:05:35,717][experiments.train][INFO] - Successfully built SS bonds for /content/DiffPepBuilder/tests/inference/26D_07M_2024Y_07h_02m/alk1/length_15/alk1_sample_1.pdb\n",
      "['A_13_F@A_15_V']\n",
      "[2024-07-26 07:05:35,726][experiments.train][INFO] - Try building SS bonds for /content/DiffPepBuilder/tests/inference/26D_07M_2024Y_07h_02m/alk1/length_15/alk1_sample_3.pdb...\n",
      "[2024-07-26 07:05:36,380][experiments.train][INFO] - Successfully built SS bonds for /content/DiffPepBuilder/tests/inference/26D_07M_2024Y_07h_02m/alk1/length_15/alk1_sample_3.pdb\n",
      "['A_10_A@A_16_I']\n",
      "[2024-07-26 07:05:36,389][experiments.train][INFO] - Try building SS bonds for /content/DiffPepBuilder/tests/inference/26D_07M_2024Y_07h_02m/alk1/length_16/alk1_sample_1.pdb...\n",
      "[2024-07-26 07:05:37,041][experiments.train][INFO] - Successfully built SS bonds for /content/DiffPepBuilder/tests/inference/26D_07M_2024Y_07h_02m/alk1/length_16/alk1_sample_1.pdb\n",
      "[2024-07-26 07:05:37,153][experiments.train][INFO] - Finished building possible SS bonds for generated peptides.\n"
     ]
    }
   ],
   "source": [
    "#@title ### Run *de novo* generation\n",
    "os.environ['BASE_PATH'] = \"/content/DiffPepBuilder\"\n",
    "\n",
    "!torchrun --nproc-per-node=1 DiffPepBuilder/experiments/run_inference.py \\\n",
    "  data.val_csv_path=test_case/metadata_test.csv \\\n",
    "  experiment.use_ddp=False \\\n",
    "  experiment.num_gpus=1 \\\n",
    "  experiment.num_loader_workers=1"
   ]
  },
  {
   "cell_type": "code",
   "execution_count": null,
   "metadata": {},
   "outputs": [],
   "source": [
    "#@title ### Download results\n",
    "\n",
    "!zip -r /content/designed_binders.zip /content/DiffPepBuilder/tests/inference/\n",
    "files.download(\"/content/designed_binders.zip\")"
   ]
  },
  {
   "cell_type": "markdown",
   "metadata": {},
   "source": [
    "### Postprocessing\n",
    "\n",
    "Please refer to [README](https://github.com/YuzheWangPKU/DiffPepBuilder?tab=readme-ov-file#inference) to run the side chain assembly and energy minimization using [Rosetta](https://rosettacommons.org/software/).\n",
    "\n",
    "- We didn’t include this step in the Colab Notebook due to its limited storage and Rosetta’s large size. Apologies for any inconvenience!"
   ]
  }
 ],
 "metadata": {
  "accelerator": "GPU",
  "colab": {
   "gpuType": "T4",
   "provenance": [
    {
     "file_id": "https://github.com/YuzheWangPKU/DiffPepBuilder/blob/main/examples/DiffPepBuilder_demo.ipynb",
     "timestamp": 1721660128572
    }
   ]
  },
  "kernelspec": {
   "display_name": "Python 3",
   "name": "python3"
  },
  "language_info": {
   "name": "python",
   "version": "3.9.16"
  }
 },
 "nbformat": 4,
 "nbformat_minor": 0
}
